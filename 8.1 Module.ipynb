{
 "cells": [
  {
   "cell_type": "markdown",
   "id": "supreme-quick",
   "metadata": {},
   "source": [
    "# Modules in Python\n",
    "\n",
    "### Before learn Module we need to understand what is Modular programming?\n",
    "* **Modular programming** refers to the process of breaking a large, unwieldy programming task into separate, smaller, more manageable subtasks or modules. \n",
    "* Individual modules can then be cobbled together like building blocks to create a larger application.\n",
    "\n",
    "#### Several advantages to modularizing code in a large application:\n",
    " * Simplicity\n",
    " * Maintainability\n",
    " * Reusability\n",
    "\n",
    "### Now understand What is Module?\n",
    "* **Module** is a file containing Python definitions and statements. A module can define functions, classes, and variables.\n",
    "* A module can also include runnable code. \n",
    "* Grouping related code into a module makes the code easier to understand and use. \n",
    "* It also makes the code logically organized.  \n",
    "\n",
    "### There are actually three different ways to define a module in Python:\n",
    "\n",
    "* A module can be written in Python itself.\n",
    "* A module can be written in C and loaded dynamically at run-time, like the re (regular expression) module.\n",
    "* A built-in module is intrinsically contained in the interpreter, like the itertools module.\n",
    "* A module’s contents are accessed the same way in all three cases: with the import statement.\n",
    "\n",
    "### Now understand how to use the Module?\n",
    "All you need to do is create a file that contains legitimate Python code and then give the file a name with a .py extension. \n",
    "\n",
    "For example, suppose you have created a file called **mod.py** containing the following:"
   ]
  },
  {
   "cell_type": "code",
   "execution_count": null,
   "id": "hungry-greece",
   "metadata": {},
   "outputs": [],
   "source": [
    "#Save as mod.py\n",
    "#Content in mod.py\n",
    "word = \"This is Python Module Exmaple\"\n",
    "arr = [100, 200, 300]\n",
    "\n",
    "def add(a,b):\n",
    "    print({a+b})"
   ]
  },
  {
   "cell_type": "markdown",
   "id": "expired-density",
   "metadata": {},
   "source": [
    "Several objects are defined in mod.py:\n",
    "\n",
    "* word (a string)\n",
    "* arr (a list)\n",
    "* add(a,b) (a function)\n",
    "\n",
    "Assuming mod.py is in an appropriate location, which you will learn more about shortly, these objects can be accessed by importing the module as follows:"
   ]
  },
  {
   "cell_type": "code",
   "execution_count": 21,
   "id": "possible-lightweight",
   "metadata": {},
   "outputs": [
    {
     "name": "stdout",
     "output_type": "stream",
     "text": [
      "This is Python Module Exmaple\n",
      "[100, 200, 300]\n",
      "5\n"
     ]
    }
   ],
   "source": [
    "import mod\n",
    "\n",
    "print(mod.word)\n",
    "print(mod.arr)\n",
    "x = mod.add(3,2)\n",
    "print(x)"
   ]
  },
  {
   "cell_type": "markdown",
   "id": "better-avatar",
   "metadata": {},
   "source": [
    "## The import Statement:\n",
    "* Module contents are made available to the caller with the import statement. \n",
    "* The import statement takes many different forms, shown below.\n",
    "\n",
    "> import module_name"
   ]
  },
  {
   "cell_type": "code",
   "execution_count": 10,
   "id": "spiritual-advisory",
   "metadata": {},
   "outputs": [
    {
     "name": "stdout",
     "output_type": "stream",
     "text": [
      "This is Python Module Exmaple\n"
     ]
    }
   ],
   "source": [
    "import mod\n",
    "\n",
    "print(mod.word)"
   ]
  },
  {
   "cell_type": "markdown",
   "id": "existing-carol",
   "metadata": {},
   "source": [
    "### Several comma-separated modules may be specified in a single import statement:\n",
    "\n",
    "We have import any number of Modules each one must be separated by comma.\n",
    "\n",
    "> import module_name1,module_name2,...\n",
    "\n",
    "### Importing specific objects in Module\n",
    "\n",
    "An alternate form of the import statement allows individual objects from the module to be imported directly into the caller’s symbol table:\n",
    "\n",
    "> from module_name import Object\n",
    "\n",
    "Following execution of the above statement, Object can be referenced in the caller’s environment without the module_name prefix:"
   ]
  },
  {
   "cell_type": "code",
   "execution_count": 8,
   "id": "irish-diary",
   "metadata": {},
   "outputs": [
    {
     "name": "stdout",
     "output_type": "stream",
     "text": [
      "This is Python Module Exmaple\n"
     ]
    }
   ],
   "source": [
    "from mod import word\n",
    "print(word)"
   ]
  },
  {
   "cell_type": "markdown",
   "id": "outstanding-credits",
   "metadata": {},
   "source": [
    "**Because this form of import places the object names directly into the caller’s symbol table, any objects that already exist with the same name will be overwritten.**\n",
    "\n",
    "Let's see example for that."
   ]
  },
  {
   "cell_type": "code",
   "execution_count": 13,
   "id": "conventional-violence",
   "metadata": {},
   "outputs": [
    {
     "name": "stdout",
     "output_type": "stream",
     "text": [
      "Arr in Module\n",
      "[100, 200, 300]\n",
      "Overrided Arr\n",
      "['foo', 'bar', 'baz']\n"
     ]
    }
   ],
   "source": [
    "from mod import arr\n",
    "print(arr)\n",
    "arr = ['foo', 'bar', 'baz']\n",
    "print(arr)"
   ]
  },
  {
   "cell_type": "markdown",
   "id": "welcome-express",
   "metadata": {},
   "source": [
    "It is even possible to indiscriminately import everything from a module at one fell swoop:\n",
    "\n",
    "> from module_name import *\n",
    "\n",
    "This will place the names of all objects from <module_name> into the local symbol table, with the exception of any that begin with the underscore (_) character.\n",
    "\n",
    "For example:"
   ]
  },
  {
   "cell_type": "code",
   "execution_count": 14,
   "id": "prostate-convergence",
   "metadata": {},
   "outputs": [
    {
     "name": "stdout",
     "output_type": "stream",
     "text": [
      "This is Python Module Exmaple\n"
     ]
    }
   ],
   "source": [
    "from mod import *\n",
    "print(word)"
   ]
  },
  {
   "cell_type": "markdown",
   "id": "desirable-michigan",
   "metadata": {},
   "source": [
    "**It is also possible to import individual objects but enter them into the local symbol table with alternate names:**\n",
    "Here, we can enter any number of Modules also possible.\n",
    "`\n",
    "> from module_name import name as alt_name[, name as alt_name, …]\n",
    "\n",
    "This makes it possible to place names directly into the local symbol table but avoid conflicts with previously existing names:"
   ]
  },
  {
   "cell_type": "code",
   "execution_count": 15,
   "id": "relative-transport",
   "metadata": {},
   "outputs": [
    {
     "name": "stdout",
     "output_type": "stream",
     "text": [
      "This is Python Module Exmaple\n",
      "New Word\n"
     ]
    }
   ],
   "source": [
    "word=\"New Word\"\n",
    "from mod import word as newword\n",
    "print(newword)\n",
    "print(word)"
   ]
  },
  {
   "cell_type": "markdown",
   "id": "increased-softball",
   "metadata": {},
   "source": [
    "These are the procedures to define Module and use it in other files."
   ]
  }
 ],
 "metadata": {
  "kernelspec": {
   "display_name": "Python 3",
   "language": "python",
   "name": "python3"
  },
  "language_info": {
   "codemirror_mode": {
    "name": "ipython",
    "version": 3
   },
   "file_extension": ".py",
   "mimetype": "text/x-python",
   "name": "python",
   "nbconvert_exporter": "python",
   "pygments_lexer": "ipython3",
   "version": "3.7.8"
  }
 },
 "nbformat": 4,
 "nbformat_minor": 5
}
